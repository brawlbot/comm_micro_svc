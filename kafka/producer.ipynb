{
 "cells": [
  {
   "cell_type": "code",
   "execution_count": 1,
   "metadata": {},
   "outputs": [],
   "source": [
    "import time\n",
    "from kafka import KafkaProducer\n",
    "from kafka.admin import KafkaAdminClient\n",
    "\n",
    "topic_name = \"foobar\"\n",
    "bootstrap_servers = 'localhost:9091'\n",
    "N_sample = 300_000\n"
   ]
  },
  {
   "cell_type": "code",
   "execution_count": 2,
   "metadata": {},
   "outputs": [
    {
     "data": {
      "text/plain": [
       "[{'error_code': 3, 'topic': 'a', 'is_internal': False, 'partitions': []},\n",
       " {'error_code': 3, 'topic': 'b', 'is_internal': False, 'partitions': []},\n",
       " {'error_code': 3, 'topic': 'r', 'is_internal': False, 'partitions': []},\n",
       " {'error_code': 3, 'topic': 'f', 'is_internal': False, 'partitions': []},\n",
       " {'error_code': 3, 'topic': 'o', 'is_internal': False, 'partitions': []}]"
      ]
     },
     "execution_count": 2,
     "metadata": {},
     "output_type": "execute_result"
    }
   ],
   "source": [
    "# partition\n",
    "admin_client = KafkaAdminClient(bootstrap_servers=bootstrap_servers)\n",
    "admin_client.describe_topics(topic_name)"
   ]
  },
  {
   "cell_type": "code",
   "execution_count": 3,
   "metadata": {},
   "outputs": [],
   "source": [
    "producer = KafkaProducer(\n",
    "    bootstrap_servers=[bootstrap_servers],\n",
    "    batch_size=640,\n",
    "    # buffer_memory=33554432*10\n",
    ")\n",
    "for i in range(N_sample):\n",
    "    current_time = time.time()\n",
    "    x, y = i % 10, i % 100\n",
    "    msg = f\"{current_time} {x} {y}\"\n",
    "    producer.send(topic_name, value=msg.encode(\"utf-8\"))\n",
    "    time.sleep(0.001)"
   ]
  }
 ],
 "metadata": {
  "kernelspec": {
   "display_name": "bigdata",
   "language": "python",
   "name": "python3"
  },
  "language_info": {
   "codemirror_mode": {
    "name": "ipython",
    "version": 3
   },
   "file_extension": ".py",
   "mimetype": "text/x-python",
   "name": "python",
   "nbconvert_exporter": "python",
   "pygments_lexer": "ipython3",
   "version": "3.9.20"
  }
 },
 "nbformat": 4,
 "nbformat_minor": 2
}
