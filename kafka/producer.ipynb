{
 "cells": [
  {
   "cell_type": "code",
   "execution_count": 1,
   "metadata": {},
   "outputs": [],
   "source": [
    "import time\n",
    "from kafka import KafkaProducer\n",
    "from kafka.admin import KafkaAdminClient\n",
    "\n",
    "topic_name = \"foobar\"\n",
    "bootstrap_servers = 'localhost:9091'\n",
    "N_sample = 30000\n"
   ]
  },
  {
   "cell_type": "code",
   "execution_count": 2,
   "metadata": {},
   "outputs": [
    {
     "data": {
      "text/plain": [
       "[{'error_code': 3, 'topic': 'a', 'is_internal': False, 'partitions': []},\n",
       " {'error_code': 3, 'topic': 'b', 'is_internal': False, 'partitions': []},\n",
       " {'error_code': 3, 'topic': 'r', 'is_internal': False, 'partitions': []},\n",
       " {'error_code': 3, 'topic': 'f', 'is_internal': False, 'partitions': []},\n",
       " {'error_code': 3, 'topic': 'o', 'is_internal': False, 'partitions': []}]"
      ]
     },
     "execution_count": 2,
     "metadata": {},
     "output_type": "execute_result"
    }
   ],
   "source": [
    "# 